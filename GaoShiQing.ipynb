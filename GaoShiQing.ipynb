{
 "cells": [
  {
   "cell_type": "code",
   "execution_count": 8,
   "metadata": {
    "collapsed": false
   },
   "outputs": [
    {
     "name": "stdout",
     "output_type": "stream",
     "text": [
      "ok\n"
     ]
    }
   ],
   "source": [
    "import requests\n",
    "import re\n",
    "# url = 'https://www.crowdfunder.com/browse/deals'\n",
    "url = 'http://zuslif.anxcb.cn/sjwur/rss/1/index1.html'\n",
    "# 提交并获取返回数据\n",
    "requests.get(url)\n",
    "requests.post(url,'orpay=1&referer=&url=&purl=&orname=%D6%D0%B9%FA%CC%EC%BD%F2%CC%EC%BD%F2&bdqq=123456&bdpost=123456&verifycode=&orsubmit=')\n",
    "print(\"ok\")"
   ]
  },
  {
   "cell_type": "code",
   "execution_count": null,
   "metadata": {
    "collapsed": true
   },
   "outputs": [],
   "source": []
  }
 ],
 "metadata": {
  "anaconda-cloud": {},
  "kernelspec": {
   "display_name": "Python [default]",
   "language": "python",
   "name": "python3"
  },
  "language_info": {
   "codemirror_mode": {
    "name": "ipython",
    "version": 3
   },
   "file_extension": ".py",
   "mimetype": "text/x-python",
   "name": "python",
   "nbconvert_exporter": "python",
   "pygments_lexer": "ipython3",
   "version": "3.5.2"
  }
 },
 "nbformat": 4,
 "nbformat_minor": 1
}
